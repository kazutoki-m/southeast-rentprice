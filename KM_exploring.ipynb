{
 "cells": [
  {
   "cell_type": "code",
   "execution_count": 1,
   "metadata": {
    "id": "fik8cGxV0kXw"
   },
   "outputs": [],
   "source": [
    "##  Import necessary packages\n",
    "import numpy as np\n",
    "import pandas as pd\n",
    "import matplotlib.pyplot as plt\n",
    "import seaborn as sns\n",
    "from sklearn.pipeline import Pipeline\n",
    "from sklearn.linear_model import RidgeCV\n",
    "from sklearn.model_selection import cross_validate\n",
    "from sklearn.compose import ColumnTransformer\n",
    "from sklearn.preprocessing import OneHotEncoder\n",
    "%matplotlib inline"
   ]
  },
  {
   "cell_type": "markdown",
   "metadata": {
    "id": "TxFjnkuzjuf4"
   },
   "source": [
    "### Read in the dataset and explore"
   ]
  },
  {
   "cell_type": "code",
   "execution_count": 2,
   "metadata": {
    "colab": {
     "base_uri": "https://localhost:8080/",
     "height": 452
    },
    "id": "2fTgrPa13UOm",
    "outputId": "04da3305-ad1d-46f1-db3c-58f0c2c8b6d5"
   },
   "outputs": [
    {
     "data": {
      "text/html": [
       "<div>\n",
       "<style scoped>\n",
       "    .dataframe tbody tr th:only-of-type {\n",
       "        vertical-align: middle;\n",
       "    }\n",
       "\n",
       "    .dataframe tbody tr th {\n",
       "        vertical-align: top;\n",
       "    }\n",
       "\n",
       "    .dataframe thead th {\n",
       "        text-align: right;\n",
       "    }\n",
       "</style>\n",
       "<table border=\"1\" class=\"dataframe\">\n",
       "  <thead>\n",
       "    <tr style=\"text-align: right;\">\n",
       "      <th></th>\n",
       "      <th>id</th>\n",
       "      <th>url</th>\n",
       "      <th>region</th>\n",
       "      <th>region_url</th>\n",
       "      <th>price</th>\n",
       "      <th>type</th>\n",
       "      <th>sqfeet</th>\n",
       "      <th>beds</th>\n",
       "      <th>baths</th>\n",
       "      <th>cats_allowed</th>\n",
       "      <th>...</th>\n",
       "      <th>electric_vehicle_charge</th>\n",
       "      <th>comes_furnished</th>\n",
       "      <th>laundry_options</th>\n",
       "      <th>parking_options</th>\n",
       "      <th>image_url</th>\n",
       "      <th>description</th>\n",
       "      <th>lat</th>\n",
       "      <th>long</th>\n",
       "      <th>state</th>\n",
       "      <th>k_mean</th>\n",
       "    </tr>\n",
       "  </thead>\n",
       "  <tbody>\n",
       "    <tr>\n",
       "      <th>0</th>\n",
       "      <td>7049044568</td>\n",
       "      <td>https://reno.craigslist.org/apa/d/reno-beautif...</td>\n",
       "      <td>reno / tahoe</td>\n",
       "      <td>https://reno.craigslist.org</td>\n",
       "      <td>1148</td>\n",
       "      <td>apartment</td>\n",
       "      <td>1078</td>\n",
       "      <td>3</td>\n",
       "      <td>2.0</td>\n",
       "      <td>True</td>\n",
       "      <td>...</td>\n",
       "      <td>False</td>\n",
       "      <td>False</td>\n",
       "      <td>w/d in unit</td>\n",
       "      <td>carport</td>\n",
       "      <td>https://images.craigslist.org/01616_daghmBUvTC...</td>\n",
       "      <td>Ridgeview by Vintage is where you will find al...</td>\n",
       "      <td>39.5483</td>\n",
       "      <td>-119.796</td>\n",
       "      <td>ca</td>\n",
       "      <td>2</td>\n",
       "    </tr>\n",
       "    <tr>\n",
       "      <th>1</th>\n",
       "      <td>7049047186</td>\n",
       "      <td>https://reno.craigslist.org/apa/d/reno-reduced...</td>\n",
       "      <td>reno / tahoe</td>\n",
       "      <td>https://reno.craigslist.org</td>\n",
       "      <td>1200</td>\n",
       "      <td>condo</td>\n",
       "      <td>1001</td>\n",
       "      <td>2</td>\n",
       "      <td>2.0</td>\n",
       "      <td>False</td>\n",
       "      <td>...</td>\n",
       "      <td>False</td>\n",
       "      <td>False</td>\n",
       "      <td>w/d hookups</td>\n",
       "      <td>carport</td>\n",
       "      <td>https://images.craigslist.org/00V0V_5va0MkgO9q...</td>\n",
       "      <td>Conveniently located in the middle town of Ren...</td>\n",
       "      <td>39.5026</td>\n",
       "      <td>-119.789</td>\n",
       "      <td>ca</td>\n",
       "      <td>2</td>\n",
       "    </tr>\n",
       "    <tr>\n",
       "      <th>2</th>\n",
       "      <td>7043634882</td>\n",
       "      <td>https://reno.craigslist.org/apa/d/sparks-state...</td>\n",
       "      <td>reno / tahoe</td>\n",
       "      <td>https://reno.craigslist.org</td>\n",
       "      <td>1813</td>\n",
       "      <td>apartment</td>\n",
       "      <td>1683</td>\n",
       "      <td>2</td>\n",
       "      <td>2.0</td>\n",
       "      <td>True</td>\n",
       "      <td>...</td>\n",
       "      <td>False</td>\n",
       "      <td>False</td>\n",
       "      <td>w/d in unit</td>\n",
       "      <td>attached garage</td>\n",
       "      <td>https://images.craigslist.org/00t0t_erYqC6LgB8...</td>\n",
       "      <td>2BD | 2BA | 1683SQFTDiscover exceptional servi...</td>\n",
       "      <td>39.6269</td>\n",
       "      <td>-119.708</td>\n",
       "      <td>ca</td>\n",
       "      <td>2</td>\n",
       "    </tr>\n",
       "    <tr>\n",
       "      <th>3</th>\n",
       "      <td>7049045324</td>\n",
       "      <td>https://reno.craigslist.org/apa/d/reno-1x1-fir...</td>\n",
       "      <td>reno / tahoe</td>\n",
       "      <td>https://reno.craigslist.org</td>\n",
       "      <td>1095</td>\n",
       "      <td>apartment</td>\n",
       "      <td>708</td>\n",
       "      <td>1</td>\n",
       "      <td>1.0</td>\n",
       "      <td>True</td>\n",
       "      <td>...</td>\n",
       "      <td>False</td>\n",
       "      <td>False</td>\n",
       "      <td>w/d in unit</td>\n",
       "      <td>carport</td>\n",
       "      <td>https://images.craigslist.org/00303_3HSJz75zlI...</td>\n",
       "      <td>MOVE IN SPECIAL FREE WASHER/DRYER WITH 6 OR 12...</td>\n",
       "      <td>39.4477</td>\n",
       "      <td>-119.771</td>\n",
       "      <td>ca</td>\n",
       "      <td>2</td>\n",
       "    </tr>\n",
       "    <tr>\n",
       "      <th>4</th>\n",
       "      <td>7049043759</td>\n",
       "      <td>https://reno.craigslist.org/apa/d/reno-no-long...</td>\n",
       "      <td>reno / tahoe</td>\n",
       "      <td>https://reno.craigslist.org</td>\n",
       "      <td>289</td>\n",
       "      <td>apartment</td>\n",
       "      <td>250</td>\n",
       "      <td>0</td>\n",
       "      <td>1.0</td>\n",
       "      <td>True</td>\n",
       "      <td>...</td>\n",
       "      <td>False</td>\n",
       "      <td>True</td>\n",
       "      <td>laundry on site</td>\n",
       "      <td>NaN</td>\n",
       "      <td>https://images.craigslist.org/01616_fALAWFV8zQ...</td>\n",
       "      <td>Move In Today: Reno Low-Cost, Clean &amp; Furnishe...</td>\n",
       "      <td>39.5357</td>\n",
       "      <td>-119.805</td>\n",
       "      <td>ca</td>\n",
       "      <td>2</td>\n",
       "    </tr>\n",
       "  </tbody>\n",
       "</table>\n",
       "<p>5 rows × 23 columns</p>\n",
       "</div>"
      ],
      "text/plain": [
       "           id                                                url  \\\n",
       "0  7049044568  https://reno.craigslist.org/apa/d/reno-beautif...   \n",
       "1  7049047186  https://reno.craigslist.org/apa/d/reno-reduced...   \n",
       "2  7043634882  https://reno.craigslist.org/apa/d/sparks-state...   \n",
       "3  7049045324  https://reno.craigslist.org/apa/d/reno-1x1-fir...   \n",
       "4  7049043759  https://reno.craigslist.org/apa/d/reno-no-long...   \n",
       "\n",
       "         region                   region_url  price       type  sqfeet  beds  \\\n",
       "0  reno / tahoe  https://reno.craigslist.org   1148  apartment    1078     3   \n",
       "1  reno / tahoe  https://reno.craigslist.org   1200      condo    1001     2   \n",
       "2  reno / tahoe  https://reno.craigslist.org   1813  apartment    1683     2   \n",
       "3  reno / tahoe  https://reno.craigslist.org   1095  apartment     708     1   \n",
       "4  reno / tahoe  https://reno.craigslist.org    289  apartment     250     0   \n",
       "\n",
       "   baths  cats_allowed  ...  electric_vehicle_charge  comes_furnished  \\\n",
       "0    2.0          True  ...                    False            False   \n",
       "1    2.0         False  ...                    False            False   \n",
       "2    2.0          True  ...                    False            False   \n",
       "3    1.0          True  ...                    False            False   \n",
       "4    1.0          True  ...                    False             True   \n",
       "\n",
       "   laundry_options  parking_options  \\\n",
       "0      w/d in unit          carport   \n",
       "1      w/d hookups          carport   \n",
       "2      w/d in unit  attached garage   \n",
       "3      w/d in unit          carport   \n",
       "4  laundry on site              NaN   \n",
       "\n",
       "                                           image_url  \\\n",
       "0  https://images.craigslist.org/01616_daghmBUvTC...   \n",
       "1  https://images.craigslist.org/00V0V_5va0MkgO9q...   \n",
       "2  https://images.craigslist.org/00t0t_erYqC6LgB8...   \n",
       "3  https://images.craigslist.org/00303_3HSJz75zlI...   \n",
       "4  https://images.craigslist.org/01616_fALAWFV8zQ...   \n",
       "\n",
       "                                         description      lat     long state  \\\n",
       "0  Ridgeview by Vintage is where you will find al...  39.5483 -119.796    ca   \n",
       "1  Conveniently located in the middle town of Ren...  39.5026 -119.789    ca   \n",
       "2  2BD | 2BA | 1683SQFTDiscover exceptional servi...  39.6269 -119.708    ca   \n",
       "3  MOVE IN SPECIAL FREE WASHER/DRYER WITH 6 OR 12...  39.4477 -119.771    ca   \n",
       "4  Move In Today: Reno Low-Cost, Clean & Furnishe...  39.5357 -119.805    ca   \n",
       "\n",
       "   k_mean  \n",
       "0       2  \n",
       "1       2  \n",
       "2       2  \n",
       "3       2  \n",
       "4       2  \n",
       "\n",
       "[5 rows x 23 columns]"
      ]
     },
     "execution_count": 2,
     "metadata": {},
     "output_type": "execute_result"
    }
   ],
   "source": [
    "df = pd.read_csv('k=4.csv')\n",
    "df.head()"
   ]
  },
  {
   "cell_type": "code",
   "execution_count": 3,
   "metadata": {
    "colab": {
     "base_uri": "https://localhost:8080/"
    },
    "id": "tRs4nLHx8uv5",
    "outputId": "65df5b0f-2eb3-4b5b-b686-152336091709"
   },
   "outputs": [
    {
     "name": "stdout",
     "output_type": "stream",
     "text": [
      "<class 'pandas.core.frame.DataFrame'>\n",
      "RangeIndex: 370632 entries, 0 to 370631\n",
      "Data columns (total 23 columns):\n",
      " #   Column                   Non-Null Count   Dtype  \n",
      "---  ------                   --------------   -----  \n",
      " 0   id                       370632 non-null  int64  \n",
      " 1   url                      370632 non-null  object \n",
      " 2   region                   370632 non-null  object \n",
      " 3   region_url               370632 non-null  object \n",
      " 4   price                    370632 non-null  int64  \n",
      " 5   type                     370632 non-null  object \n",
      " 6   sqfeet                   370632 non-null  int64  \n",
      " 7   beds                     370632 non-null  int64  \n",
      " 8   baths                    370632 non-null  float64\n",
      " 9   cats_allowed             370632 non-null  bool   \n",
      " 10  dogs_allowed             370632 non-null  bool   \n",
      " 11  smoking_allowed          370632 non-null  bool   \n",
      " 12  wheelchair_access        370632 non-null  bool   \n",
      " 13  electric_vehicle_charge  370632 non-null  bool   \n",
      " 14  comes_furnished          370632 non-null  bool   \n",
      " 15  laundry_options          293716 non-null  object \n",
      " 16  parking_options          234314 non-null  object \n",
      " 17  image_url                370632 non-null  object \n",
      " 18  description              370630 non-null  object \n",
      " 19  lat                      370632 non-null  float64\n",
      " 20  long                     370632 non-null  float64\n",
      " 21  state                    370632 non-null  object \n",
      " 22  k_mean                   370632 non-null  int64  \n",
      "dtypes: bool(6), float64(3), int64(5), object(9)\n",
      "memory usage: 50.2+ MB\n"
     ]
    }
   ],
   "source": [
    "df.info()"
   ]
  },
  {
   "cell_type": "code",
   "execution_count": 4,
   "metadata": {
    "colab": {
     "base_uri": "https://localhost:8080/",
     "height": 300
    },
    "id": "QnQd8JSl5UjG",
    "outputId": "44c128b0-b9a2-40de-84fe-3e979ed6e5ff"
   },
   "outputs": [
    {
     "data": {
      "text/html": [
       "<div>\n",
       "<style scoped>\n",
       "    .dataframe tbody tr th:only-of-type {\n",
       "        vertical-align: middle;\n",
       "    }\n",
       "\n",
       "    .dataframe tbody tr th {\n",
       "        vertical-align: top;\n",
       "    }\n",
       "\n",
       "    .dataframe thead th {\n",
       "        text-align: right;\n",
       "    }\n",
       "</style>\n",
       "<table border=\"1\" class=\"dataframe\">\n",
       "  <thead>\n",
       "    <tr style=\"text-align: right;\">\n",
       "      <th></th>\n",
       "      <th>id</th>\n",
       "      <th>price</th>\n",
       "      <th>sqfeet</th>\n",
       "      <th>beds</th>\n",
       "      <th>baths</th>\n",
       "      <th>lat</th>\n",
       "      <th>long</th>\n",
       "      <th>k_mean</th>\n",
       "    </tr>\n",
       "  </thead>\n",
       "  <tbody>\n",
       "    <tr>\n",
       "      <th>count</th>\n",
       "      <td>3.706320e+05</td>\n",
       "      <td>370632.000000</td>\n",
       "      <td>370632.000000</td>\n",
       "      <td>370632.000000</td>\n",
       "      <td>370632.000000</td>\n",
       "      <td>370632.000000</td>\n",
       "      <td>370632.000000</td>\n",
       "      <td>370632.000000</td>\n",
       "    </tr>\n",
       "    <tr>\n",
       "      <th>mean</th>\n",
       "      <td>7.040896e+09</td>\n",
       "      <td>1154.294448</td>\n",
       "      <td>1001.831272</td>\n",
       "      <td>1.917962</td>\n",
       "      <td>1.485627</td>\n",
       "      <td>37.247866</td>\n",
       "      <td>-92.469586</td>\n",
       "      <td>1.457918</td>\n",
       "    </tr>\n",
       "    <tr>\n",
       "      <th>std</th>\n",
       "      <td>8.812803e+06</td>\n",
       "      <td>522.938865</td>\n",
       "      <td>392.006187</td>\n",
       "      <td>3.154074</td>\n",
       "      <td>0.614096</td>\n",
       "      <td>5.522383</td>\n",
       "      <td>15.460075</td>\n",
       "      <td>1.139739</td>\n",
       "    </tr>\n",
       "    <tr>\n",
       "      <th>min</th>\n",
       "      <td>7.003808e+09</td>\n",
       "      <td>106.000000</td>\n",
       "      <td>144.000000</td>\n",
       "      <td>0.000000</td>\n",
       "      <td>0.000000</td>\n",
       "      <td>19.097400</td>\n",
       "      <td>-159.530000</td>\n",
       "      <td>0.000000</td>\n",
       "    </tr>\n",
       "    <tr>\n",
       "      <th>25%</th>\n",
       "      <td>7.035910e+09</td>\n",
       "      <td>805.000000</td>\n",
       "      <td>755.000000</td>\n",
       "      <td>1.000000</td>\n",
       "      <td>1.000000</td>\n",
       "      <td>33.429000</td>\n",
       "      <td>-98.512700</td>\n",
       "      <td>0.000000</td>\n",
       "    </tr>\n",
       "    <tr>\n",
       "      <th>50%</th>\n",
       "      <td>7.043039e+09</td>\n",
       "      <td>1026.000000</td>\n",
       "      <td>950.000000</td>\n",
       "      <td>2.000000</td>\n",
       "      <td>1.000000</td>\n",
       "      <td>37.666200</td>\n",
       "      <td>-87.625700</td>\n",
       "      <td>1.000000</td>\n",
       "    </tr>\n",
       "    <tr>\n",
       "      <th>75%</th>\n",
       "      <td>7.048375e+09</td>\n",
       "      <td>1371.000000</td>\n",
       "      <td>1150.000000</td>\n",
       "      <td>2.000000</td>\n",
       "      <td>2.000000</td>\n",
       "      <td>41.176200</td>\n",
       "      <td>-81.206300</td>\n",
       "      <td>3.000000</td>\n",
       "    </tr>\n",
       "    <tr>\n",
       "      <th>max</th>\n",
       "      <td>7.051292e+09</td>\n",
       "      <td>9910.000000</td>\n",
       "      <td>9999.000000</td>\n",
       "      <td>1100.000000</td>\n",
       "      <td>75.000000</td>\n",
       "      <td>64.993700</td>\n",
       "      <td>-67.482000</td>\n",
       "      <td>3.000000</td>\n",
       "    </tr>\n",
       "  </tbody>\n",
       "</table>\n",
       "</div>"
      ],
      "text/plain": [
       "                 id          price         sqfeet           beds  \\\n",
       "count  3.706320e+05  370632.000000  370632.000000  370632.000000   \n",
       "mean   7.040896e+09    1154.294448    1001.831272       1.917962   \n",
       "std    8.812803e+06     522.938865     392.006187       3.154074   \n",
       "min    7.003808e+09     106.000000     144.000000       0.000000   \n",
       "25%    7.035910e+09     805.000000     755.000000       1.000000   \n",
       "50%    7.043039e+09    1026.000000     950.000000       2.000000   \n",
       "75%    7.048375e+09    1371.000000    1150.000000       2.000000   \n",
       "max    7.051292e+09    9910.000000    9999.000000    1100.000000   \n",
       "\n",
       "               baths            lat           long         k_mean  \n",
       "count  370632.000000  370632.000000  370632.000000  370632.000000  \n",
       "mean        1.485627      37.247866     -92.469586       1.457918  \n",
       "std         0.614096       5.522383      15.460075       1.139739  \n",
       "min         0.000000      19.097400    -159.530000       0.000000  \n",
       "25%         1.000000      33.429000     -98.512700       0.000000  \n",
       "50%         1.000000      37.666200     -87.625700       1.000000  \n",
       "75%         2.000000      41.176200     -81.206300       3.000000  \n",
       "max        75.000000      64.993700     -67.482000       3.000000  "
      ]
     },
     "execution_count": 4,
     "metadata": {},
     "output_type": "execute_result"
    }
   ],
   "source": [
    "df.describe()"
   ]
  },
  {
   "cell_type": "code",
   "execution_count": 6,
   "metadata": {
    "id": "nrVeZdlw5tEF"
   },
   "outputs": [
    {
     "data": {
      "text/html": [
       "<div>\n",
       "<style scoped>\n",
       "    .dataframe tbody tr th:only-of-type {\n",
       "        vertical-align: middle;\n",
       "    }\n",
       "\n",
       "    .dataframe tbody tr th {\n",
       "        vertical-align: top;\n",
       "    }\n",
       "\n",
       "    .dataframe thead th {\n",
       "        text-align: right;\n",
       "    }\n",
       "</style>\n",
       "<table border=\"1\" class=\"dataframe\">\n",
       "  <thead>\n",
       "    <tr style=\"text-align: right;\">\n",
       "      <th></th>\n",
       "      <th>id</th>\n",
       "      <th>price</th>\n",
       "      <th>sqfeet</th>\n",
       "      <th>beds</th>\n",
       "      <th>baths</th>\n",
       "      <th>lat</th>\n",
       "      <th>long</th>\n",
       "      <th>k_mean</th>\n",
       "    </tr>\n",
       "  </thead>\n",
       "  <tbody>\n",
       "    <tr>\n",
       "      <th>count</th>\n",
       "      <td>9.937000e+04</td>\n",
       "      <td>99370.000000</td>\n",
       "      <td>99370.000000</td>\n",
       "      <td>99370.000000</td>\n",
       "      <td>99370.000000</td>\n",
       "      <td>99370.000000</td>\n",
       "      <td>99370.000000</td>\n",
       "      <td>99370.0</td>\n",
       "    </tr>\n",
       "    <tr>\n",
       "      <th>mean</th>\n",
       "      <td>7.040124e+09</td>\n",
       "      <td>1042.069991</td>\n",
       "      <td>1021.645134</td>\n",
       "      <td>1.930623</td>\n",
       "      <td>1.557699</td>\n",
       "      <td>32.448229</td>\n",
       "      <td>-84.406400</td>\n",
       "      <td>3.0</td>\n",
       "    </tr>\n",
       "    <tr>\n",
       "      <th>std</th>\n",
       "      <td>8.666528e+06</td>\n",
       "      <td>398.961893</td>\n",
       "      <td>349.336205</td>\n",
       "      <td>0.845606</td>\n",
       "      <td>0.606884</td>\n",
       "      <td>3.404260</td>\n",
       "      <td>3.315026</td>\n",
       "      <td>0.0</td>\n",
       "    </tr>\n",
       "    <tr>\n",
       "      <th>min</th>\n",
       "      <td>7.003808e+09</td>\n",
       "      <td>106.000000</td>\n",
       "      <td>170.000000</td>\n",
       "      <td>0.000000</td>\n",
       "      <td>0.000000</td>\n",
       "      <td>19.097400</td>\n",
       "      <td>-96.649700</td>\n",
       "      <td>3.0</td>\n",
       "    </tr>\n",
       "    <tr>\n",
       "      <th>25%</th>\n",
       "      <td>7.035398e+09</td>\n",
       "      <td>799.000000</td>\n",
       "      <td>800.000000</td>\n",
       "      <td>1.000000</td>\n",
       "      <td>1.000000</td>\n",
       "      <td>30.153750</td>\n",
       "      <td>-86.778175</td>\n",
       "      <td>3.0</td>\n",
       "    </tr>\n",
       "    <tr>\n",
       "      <th>50%</th>\n",
       "      <td>7.041879e+09</td>\n",
       "      <td>970.000000</td>\n",
       "      <td>990.000000</td>\n",
       "      <td>2.000000</td>\n",
       "      <td>1.500000</td>\n",
       "      <td>32.477900</td>\n",
       "      <td>-84.030800</td>\n",
       "      <td>3.0</td>\n",
       "    </tr>\n",
       "    <tr>\n",
       "      <th>75%</th>\n",
       "      <td>7.047096e+09</td>\n",
       "      <td>1206.000000</td>\n",
       "      <td>1184.000000</td>\n",
       "      <td>2.000000</td>\n",
       "      <td>2.000000</td>\n",
       "      <td>35.027800</td>\n",
       "      <td>-81.588200</td>\n",
       "      <td>3.0</td>\n",
       "    </tr>\n",
       "    <tr>\n",
       "      <th>max</th>\n",
       "      <td>7.051272e+09</td>\n",
       "      <td>9600.000000</td>\n",
       "      <td>9750.000000</td>\n",
       "      <td>8.000000</td>\n",
       "      <td>7.000000</td>\n",
       "      <td>40.581500</td>\n",
       "      <td>-72.988800</td>\n",
       "      <td>3.0</td>\n",
       "    </tr>\n",
       "  </tbody>\n",
       "</table>\n",
       "</div>"
      ],
      "text/plain": [
       "                 id         price        sqfeet          beds         baths  \\\n",
       "count  9.937000e+04  99370.000000  99370.000000  99370.000000  99370.000000   \n",
       "mean   7.040124e+09   1042.069991   1021.645134      1.930623      1.557699   \n",
       "std    8.666528e+06    398.961893    349.336205      0.845606      0.606884   \n",
       "min    7.003808e+09    106.000000    170.000000      0.000000      0.000000   \n",
       "25%    7.035398e+09    799.000000    800.000000      1.000000      1.000000   \n",
       "50%    7.041879e+09    970.000000    990.000000      2.000000      1.500000   \n",
       "75%    7.047096e+09   1206.000000   1184.000000      2.000000      2.000000   \n",
       "max    7.051272e+09   9600.000000   9750.000000      8.000000      7.000000   \n",
       "\n",
       "                lat          long   k_mean  \n",
       "count  99370.000000  99370.000000  99370.0  \n",
       "mean      32.448229    -84.406400      3.0  \n",
       "std        3.404260      3.315026      0.0  \n",
       "min       19.097400    -96.649700      3.0  \n",
       "25%       30.153750    -86.778175      3.0  \n",
       "50%       32.477900    -84.030800      3.0  \n",
       "75%       35.027800    -81.588200      3.0  \n",
       "max       40.581500    -72.988800      3.0  "
      ]
     },
     "execution_count": 6,
     "metadata": {},
     "output_type": "execute_result"
    }
   ],
   "source": [
    "sub3 = df[df['k_mean'] == 3]\n",
    "sub3.describe()"
   ]
  },
  {
   "cell_type": "code",
   "execution_count": 7,
   "metadata": {
    "colab": {
     "base_uri": "https://localhost:8080/"
    },
    "id": "ggcFzV6t-Uw5",
    "outputId": "37166fdc-41a8-43b6-d086-3983e18ad6e5"
   },
   "outputs": [
    {
     "data": {
      "text/plain": [
       "id                         0.000000\n",
       "url                        0.000000\n",
       "region                     0.000000\n",
       "region_url                 0.000000\n",
       "price                      0.000000\n",
       "type                       0.000000\n",
       "sqfeet                     0.000000\n",
       "beds                       0.000000\n",
       "baths                      0.000000\n",
       "cats_allowed               0.000000\n",
       "dogs_allowed               0.000000\n",
       "smoking_allowed            0.000000\n",
       "wheelchair_access          0.000000\n",
       "electric_vehicle_charge    0.000000\n",
       "comes_furnished            0.000000\n",
       "laundry_options            0.261548\n",
       "parking_options            0.467052\n",
       "image_url                  0.000000\n",
       "description                0.000010\n",
       "lat                        0.000000\n",
       "long                       0.000000\n",
       "state                      0.000000\n",
       "k_mean                     0.000000\n",
       "dtype: float64"
      ]
     },
     "execution_count": 7,
     "metadata": {},
     "output_type": "execute_result"
    }
   ],
   "source": [
    "sub3.isnull().mean()"
   ]
  },
  {
   "cell_type": "code",
   "execution_count": 8,
   "metadata": {
    "colab": {
     "base_uri": "https://localhost:8080/"
    },
    "id": "fpE14wLA7Y2g",
    "outputId": "df1ab464-c559-4291-aa32-40fa401ff86c"
   },
   "outputs": [
    {
     "data": {
      "text/plain": [
       "(99370, 23)"
      ]
     },
     "execution_count": 8,
     "metadata": {},
     "output_type": "execute_result"
    }
   ],
   "source": [
    "sub3.shape"
   ]
  },
  {
   "cell_type": "markdown",
   "metadata": {
    "id": "bPxry-greE2M"
   },
   "source": [
    "# Data Cleaning#\n",
    "1. Winsorize rows with more than three standard deviations by price and sqfeet\n",
    "2. Log transformed price and sqfeet columns as they seem log-normal\n",
    "3. Create a column 'pets_allowed' where either cats or dogs are allowed to have\n",
    "4. Drop 'type' of 'assisted living' and 'land' as this seems an outlier\n",
    "5. Create a parking_dummy where I assign 1 to options with (medians price > 1500), and 0 to the others. I filled missing values with 0 as they seem similar in distribution.\n",
    "6. Ceate a laundry_dummy where I got three categories; in-unit, in_building, and no_laundry. The missing values are imputed to in_building as they seem similar in distribution.\n",
    "7. Use state variable as categorical dummy variable  "
   ]
  },
  {
   "cell_type": "markdown",
   "metadata": {
    "id": "QmabzSv82ega"
   },
   "source": [
    "# Data Cleaning: Winsorize outside Three Standard Deviations"
   ]
  },
  {
   "cell_type": "code",
   "execution_count": 9,
   "metadata": {
    "colab": {
     "base_uri": "https://localhost:8080/",
     "height": 300
    },
    "id": "7U9vuQhzqHxm",
    "outputId": "cfd9aa53-bec8-43f6-e012-2aac26b7d6ba"
   },
   "outputs": [
    {
     "data": {
      "text/html": [
       "<div>\n",
       "<style scoped>\n",
       "    .dataframe tbody tr th:only-of-type {\n",
       "        vertical-align: middle;\n",
       "    }\n",
       "\n",
       "    .dataframe tbody tr th {\n",
       "        vertical-align: top;\n",
       "    }\n",
       "\n",
       "    .dataframe thead th {\n",
       "        text-align: right;\n",
       "    }\n",
       "</style>\n",
       "<table border=\"1\" class=\"dataframe\">\n",
       "  <thead>\n",
       "    <tr style=\"text-align: right;\">\n",
       "      <th></th>\n",
       "      <th>id</th>\n",
       "      <th>price</th>\n",
       "      <th>sqfeet</th>\n",
       "      <th>beds</th>\n",
       "      <th>baths</th>\n",
       "      <th>lat</th>\n",
       "      <th>long</th>\n",
       "      <th>k_mean</th>\n",
       "    </tr>\n",
       "  </thead>\n",
       "  <tbody>\n",
       "    <tr>\n",
       "      <th>count</th>\n",
       "      <td>9.681300e+04</td>\n",
       "      <td>96813.000000</td>\n",
       "      <td>96813.000000</td>\n",
       "      <td>96813.000000</td>\n",
       "      <td>96813.000000</td>\n",
       "      <td>96813.000000</td>\n",
       "      <td>96813.000000</td>\n",
       "      <td>96813.0</td>\n",
       "    </tr>\n",
       "    <tr>\n",
       "      <th>mean</th>\n",
       "      <td>7.040109e+09</td>\n",
       "      <td>1010.028767</td>\n",
       "      <td>995.361666</td>\n",
       "      <td>1.899662</td>\n",
       "      <td>1.536281</td>\n",
       "      <td>32.483686</td>\n",
       "      <td>-84.439982</td>\n",
       "      <td>3.0</td>\n",
       "    </tr>\n",
       "    <tr>\n",
       "      <th>std</th>\n",
       "      <td>8.667600e+06</td>\n",
       "      <td>319.714551</td>\n",
       "      <td>282.825442</td>\n",
       "      <td>0.816522</td>\n",
       "      <td>0.587949</td>\n",
       "      <td>3.365465</td>\n",
       "      <td>3.310231</td>\n",
       "      <td>0.0</td>\n",
       "    </tr>\n",
       "    <tr>\n",
       "      <th>min</th>\n",
       "      <td>7.003808e+09</td>\n",
       "      <td>106.000000</td>\n",
       "      <td>170.000000</td>\n",
       "      <td>0.000000</td>\n",
       "      <td>0.000000</td>\n",
       "      <td>19.097400</td>\n",
       "      <td>-96.649700</td>\n",
       "      <td>3.0</td>\n",
       "    </tr>\n",
       "    <tr>\n",
       "      <th>25%</th>\n",
       "      <td>7.035388e+09</td>\n",
       "      <td>795.000000</td>\n",
       "      <td>796.000000</td>\n",
       "      <td>1.000000</td>\n",
       "      <td>1.000000</td>\n",
       "      <td>30.160300</td>\n",
       "      <td>-86.786700</td>\n",
       "      <td>3.0</td>\n",
       "    </tr>\n",
       "    <tr>\n",
       "      <th>50%</th>\n",
       "      <td>7.041872e+09</td>\n",
       "      <td>960.000000</td>\n",
       "      <td>980.000000</td>\n",
       "      <td>2.000000</td>\n",
       "      <td>1.500000</td>\n",
       "      <td>32.477900</td>\n",
       "      <td>-84.068200</td>\n",
       "      <td>3.0</td>\n",
       "    </tr>\n",
       "    <tr>\n",
       "      <th>75%</th>\n",
       "      <td>7.047085e+09</td>\n",
       "      <td>1197.000000</td>\n",
       "      <td>1165.000000</td>\n",
       "      <td>2.000000</td>\n",
       "      <td>2.000000</td>\n",
       "      <td>35.029300</td>\n",
       "      <td>-81.629500</td>\n",
       "      <td>3.0</td>\n",
       "    </tr>\n",
       "    <tr>\n",
       "      <th>max</th>\n",
       "      <td>7.051272e+09</td>\n",
       "      <td>2235.000000</td>\n",
       "      <td>2069.000000</td>\n",
       "      <td>8.000000</td>\n",
       "      <td>4.500000</td>\n",
       "      <td>40.581500</td>\n",
       "      <td>-72.988800</td>\n",
       "      <td>3.0</td>\n",
       "    </tr>\n",
       "  </tbody>\n",
       "</table>\n",
       "</div>"
      ],
      "text/plain": [
       "                 id         price        sqfeet          beds         baths  \\\n",
       "count  9.681300e+04  96813.000000  96813.000000  96813.000000  96813.000000   \n",
       "mean   7.040109e+09   1010.028767    995.361666      1.899662      1.536281   \n",
       "std    8.667600e+06    319.714551    282.825442      0.816522      0.587949   \n",
       "min    7.003808e+09    106.000000    170.000000      0.000000      0.000000   \n",
       "25%    7.035388e+09    795.000000    796.000000      1.000000      1.000000   \n",
       "50%    7.041872e+09    960.000000    980.000000      2.000000      1.500000   \n",
       "75%    7.047085e+09   1197.000000   1165.000000      2.000000      2.000000   \n",
       "max    7.051272e+09   2235.000000   2069.000000      8.000000      4.500000   \n",
       "\n",
       "                lat          long   k_mean  \n",
       "count  96813.000000  96813.000000  96813.0  \n",
       "mean      32.483686    -84.439982      3.0  \n",
       "std        3.365465      3.310231      0.0  \n",
       "min       19.097400    -96.649700      3.0  \n",
       "25%       30.160300    -86.786700      3.0  \n",
       "50%       32.477900    -84.068200      3.0  \n",
       "75%       35.029300    -81.629500      3.0  \n",
       "max       40.581500    -72.988800      3.0  "
      ]
     },
     "execution_count": 9,
     "metadata": {},
     "output_type": "execute_result"
    }
   ],
   "source": [
    "from scipy import stats\n",
    "sub3 = sub3[(np.abs(stats.zscore(sub3[['price','sqfeet']])) < 3).all(axis=1)]\n",
    "sub3.describe()"
   ]
  },
  {
   "cell_type": "markdown",
   "metadata": {
    "id": "RONJWTtRTA8n"
   },
   "source": [
    "# Data Cleaning: Log Transformation"
   ]
  },
  {
   "cell_type": "code",
   "execution_count": 10,
   "metadata": {
    "colab": {
     "base_uri": "https://localhost:8080/",
     "height": 283
    },
    "id": "zf6_SsKVMyGC",
    "outputId": "cc7a759b-2f64-45de-c55d-50f0243df08c"
   },
   "outputs": [
    {
     "data": {
      "text/plain": [
       "<matplotlib.axes._subplots.AxesSubplot at 0x163ceca6bb0>"
      ]
     },
     "execution_count": 10,
     "metadata": {},
     "output_type": "execute_result"
    },
    {
     "data": {
      "image/png": "[encoded data removed]",
      "text/plain": [
       "<Figure size 432x288 with 1 Axes>"
      ]
     },
     "metadata": {
      "needs_background": "light"
     },
     "output_type": "display_data"
    }
   ],
   "source": [
    "# sub3['sqfeet'].hist()\n",
    "np.log(sub3['sqfeet']).hist()"
   ]
  },
  {
   "cell_type": "code",
   "execution_count": 11,
   "metadata": {
    "id": "6W32oDPeNC8q"
   },
   "outputs": [],
   "source": [
    "sub3['sqfeet_log'] = np.log(sub3['sqfeet'])"
   ]
  },
  {
   "cell_type": "code",
   "execution_count": 12,
   "metadata": {
    "colab": {
     "base_uri": "https://localhost:8080/",
     "height": 283
    },
    "id": "zbtPHwg0TVBZ",
    "outputId": "0bae7ee5-aaca-4db9-91e6-afc3ed979d3a"
   },
   "outputs": [
    {
     "data": {
      "text/plain": [
       "<matplotlib.axes._subplots.AxesSubplot at 0x163ced71190>"
      ]
     },
     "execution_count": 12,
     "metadata": {},
     "output_type": "execute_result"
    },
    {
     "data": {
      "image/png": "[encoded data removed]",
      "text/plain": [
       "<Figure size 432x288 with 1 Axes>"
      ]
     },
     "metadata": {
      "needs_background": "light"
     },
     "output_type": "display_data"
    }
   ],
   "source": [
    "np.log(sub3['price']).hist()"
   ]
  },
  {
   "cell_type": "code",
   "execution_count": null,
   "metadata": {
    "id": "qi1EN9rjSvQp"
   },
   "outputs": [],
   "source": [
    "sub3['price_log'] = np.log(sub3['price'])"
   ]
  },
  {
   "cell_type": "markdown",
   "metadata": {
    "id": "jonxMrhoW6H4"
   },
   "source": [
    "# Data Clearning: Pets Allowed"
   ]
  },
  {
   "cell_type": "code",
   "execution_count": 13,
   "metadata": {
    "id": "acak-bguW5zm"
   },
   "outputs": [],
   "source": [
    "## Create a new column called 'pets_allowed' where either cats or dogs are allowed meaning pets in general allowed. \n",
    "temp = sub3[['cats_allowed', 'dogs_allowed']].apply(sum, axis=1)\n",
    "pets_allowed = []\n",
    "for t in temp:\n",
    "  if t == 0:\n",
    "    pets_allowed.append(0)\n",
    "  else:\n",
    "    pets_allowed.append(1)\n",
    "sub3['pets_allowed'] = pets_allowed"
   ]
  },
  {
   "cell_type": "markdown",
   "metadata": {
    "id": "UjrQvwmGebrV"
   },
   "source": [
    "# Data Cleaning: Type"
   ]
  },
  {
   "cell_type": "code",
   "execution_count": 15,
   "metadata": {
    "colab": {
     "base_uri": "https://localhost:8080/",
     "height": 907
    },
    "id": "nV5l1CcGcMff",
    "outputId": "d765e6f1-9c15-4d26-d6fa-53660c11fbf4"
   },
   "outputs": [
    {
     "data": {
      "text/plain": [
       "<Figure size 432x288 with 0 Axes>"
      ]
     },
     "metadata": {},
     "output_type": "display_data"
    },
    {
     "data": {
      "image/png": "[encoded data removed]",
      "text/plain": [
       "<Figure size 720x1080 with 12 Axes>"
      ]
     },
     "metadata": {
      "needs_background": "light"
     },
     "output_type": "display_data"
    }
   ],
   "source": [
    "plt.figure()\n",
    "sub3['price'].hist(by=sub3['type'],figsize=(10,15))\n",
    "plt.show()"
   ]
  },
  {
   "cell_type": "code",
   "execution_count": 16,
   "metadata": {
    "id": "At9sX7p7c3Or"
   },
   "outputs": [],
   "source": [
    "## Drop category of \"Assisted Living\" as this seems to be an outlier\n",
    "sub3 = sub3[sub3['type'] !='assisted living']\n",
    "sub3 = sub3[sub3['type'] !='land']"
   ]
  },
  {
   "cell_type": "code",
   "execution_count": 17,
   "metadata": {
    "colab": {
     "base_uri": "https://localhost:8080/"
    },
    "id": "n-Qo6IP4dF40",
    "outputId": "6257e98b-8b1e-493e-da90-1bd9538d6c84"
   },
   "outputs": [
    {
     "data": {
      "text/plain": [
       "apartment        84055\n",
       "house             6121\n",
       "townhouse         3057\n",
       "condo             1543\n",
       "manufactured       866\n",
       "duplex             826\n",
       "flat               149\n",
       "cottage/cabin      103\n",
       "loft                72\n",
       "in-law              19\n",
       "Name: type, dtype: int64"
      ]
     },
     "execution_count": 17,
     "metadata": {},
     "output_type": "execute_result"
    }
   ],
   "source": [
    "sub3['type'].value_counts()"
   ]
  },
  {
   "cell_type": "code",
   "execution_count": 18,
   "metadata": {
    "colab": {
     "base_uri": "https://localhost:8080/"
    },
    "id": "UbXZy7vIdeHC",
    "outputId": "740f55f4-1dea-4a5b-a8d1-3dae378d7ffa"
   },
   "outputs": [
    {
     "data": {
      "text/plain": [
       "type\n",
       "flat             1417.389262\n",
       "condo            1267.819183\n",
       "townhouse        1105.193327\n",
       "duplex           1057.438257\n",
       "loft             1016.666667\n",
       "in-law           1006.315789\n",
       "house            1005.091978\n",
       "apartment        1002.440688\n",
       "cottage/cabin     983.436893\n",
       "manufactured      875.288684\n",
       "Name: price, dtype: float64"
      ]
     },
     "execution_count": 18,
     "metadata": {},
     "output_type": "execute_result"
    }
   ],
   "source": [
    "sub3.groupby('type').mean()['price'].sort_values(ascending=False)"
   ]
  },
  {
   "cell_type": "markdown",
   "metadata": {
    "id": "XXDLvw-1eVLq"
   },
   "source": [
    "# Feature Engineering Parking Options"
   ]
  },
  {
   "cell_type": "code",
   "execution_count": 19,
   "metadata": {
    "colab": {
     "base_uri": "https://localhost:8080/"
    },
    "id": "bz_Ax8LNAaFq",
    "outputId": "387a5713-8868-4adb-ce80-04d383c71b68"
   },
   "outputs": [
    {
     "data": {
      "text/plain": [
       "array(['attached garage', nan, 'off-street parking', 'street parking',\n",
       "       'carport', 'detached garage', 'valet parking', 'no parking'],\n",
       "      dtype=object)"
      ]
     },
     "execution_count": 19,
     "metadata": {},
     "output_type": "execute_result"
    }
   ],
   "source": [
    "sub3['parking_options'].unique()"
   ]
  },
  {
   "cell_type": "code",
   "execution_count": 26,
   "metadata": {
    "colab": {
     "base_uri": "https://localhost:8080/"
    },
    "id": "1QFsB-RQCk7U",
    "outputId": "2cdbc12b-d965-4adf-ada7-3c5702ead894"
   },
   "outputs": [
    {
     "name": "stdout",
     "output_type": "stream",
     "text": [
      "The average price of the whole rents is:  1010.0442098521862\n",
      "The average price of rents with null parking options is:  1011.3598662791968\n",
      "The average price of rents with null parking options is:  975.0\n"
     ]
    }
   ],
   "source": [
    "print('The average price of the whole rents is: ', sub3['price'].mean())\n",
    "print('The average price of rents with null parking options is: ',sub3[sub3['parking_options'].isnull()]['price'].mean())\n",
    "print('The average price of rents with null parking options is: ',sub3[sub3['parking_options'].isnull()]['price'].median())"
   ]
  },
  {
   "cell_type": "code",
   "execution_count": 24,
   "metadata": {
    "colab": {
     "base_uri": "https://localhost:8080/"
    },
    "id": "smk4TyGSEDKE",
    "outputId": "f18b949f-c268-4cbb-963e-b47d0ecec14e"
   },
   "outputs": [
    {
     "data": {
      "text/plain": [
       "parking_options\n",
       "attached garage       1390\n",
       "valet parking         1100\n",
       "no parking            1050\n",
       "carport               1025\n",
       "detached garage        980\n",
       "street parking         950\n",
       "off-street parking     899\n",
       "Name: price, dtype: int64"
      ]
     },
     "execution_count": 24,
     "metadata": {},
     "output_type": "execute_result"
    }
   ],
   "source": [
    "sub3.groupby('parking_options').median()['price'].sort_values(ascending=False)"
   ]
  },
  {
   "cell_type": "code",
   "execution_count": 23,
   "metadata": {
    "colab": {
     "base_uri": "https://localhost:8080/"
    },
    "id": "U7pt6QqDCpnp",
    "outputId": "40e5d4fd-0085-4fd2-a3c4-ee8a7f6f1c02"
   },
   "outputs": [
    {
     "data": {
      "text/plain": [
       "parking_options\n",
       "attached garage       1339.011809\n",
       "valet parking         1283.058824\n",
       "no parking            1123.494726\n",
       "carport               1089.130387\n",
       "detached garage       1077.006308\n",
       "street parking        1005.675149\n",
       "off-street parking     945.137690\n",
       "Name: price, dtype: float64"
      ]
     },
     "execution_count": 23,
     "metadata": {},
     "output_type": "execute_result"
    }
   ],
   "source": [
    "sub3.groupby('parking_options').mean()['price'].sort_values(ascending=False)"
   ]
  },
  {
   "cell_type": "code",
   "execution_count": 25,
   "metadata": {
    "colab": {
     "base_uri": "https://localhost:8080/"
    },
    "id": "Ys-tWSouBQ0W",
    "outputId": "8e42ddc7-549b-4bc3-dbca-aebe386be395"
   },
   "outputs": [
    {
     "data": {
      "text/plain": [
       "off-street parking    34781\n",
       "attached garage        5335\n",
       "street parking         5187\n",
       "carport                2715\n",
       "detached garage        2061\n",
       "no parking              948\n",
       "valet parking            17\n",
       "Name: parking_options, dtype: int64"
      ]
     },
     "execution_count": 25,
     "metadata": {},
     "output_type": "execute_result"
    }
   ],
   "source": [
    "sub3['parking_options'].value_counts()"
   ]
  },
  {
   "cell_type": "code",
   "execution_count": 33,
   "metadata": {},
   "outputs": [
    {
     "data": {
      "text/plain": [
       "<Figure size 432x288 with 0 Axes>"
      ]
     },
     "metadata": {},
     "output_type": "display_data"
    },
    {
     "data": {
      "image/png": "[encoded data removed]",
      "text/plain": [
       "<Figure size 720x1080 with 9 Axes>"
      ]
     },
     "metadata": {
      "needs_background": "light"
     },
     "output_type": "display_data"
    }
   ],
   "source": [
    "plt.figure()\n",
    "sub3['price'].hist(by=sub3['parking_options'],figsize=(10,15))\n",
    "plt.show()"
   ]
  },
  {
   "cell_type": "code",
   "execution_count": 31,
   "metadata": {
    "id": "HEE57W9UCQxJ"
   },
   "outputs": [],
   "source": [
    "# temp = (sub3.groupby('parking_options').median()['price'] > 1500).reset_index()\n",
    "# park_ones =  list(temp[temp['price']==True]['parking_options'])\n",
    "park_2 = ['attached garage']\n",
    "park_0 = ['off-street parking']\n",
    "\n",
    "park_dummy = []\n",
    "for park in sub3['parking_options']:\n",
    "  if park in park_2:\n",
    "    park_dummy.append('two')\n",
    "  elif park in park_0:\n",
    "    park_dummy.append('zero')\n",
    "  else:\n",
    "    park_dummy.append('one')\n",
    "\n",
    "sub3['park_dummy'] = park_dummy"
   ]
  },
  {
   "cell_type": "code",
   "execution_count": 34,
   "metadata": {},
   "outputs": [
    {
     "data": {
      "text/plain": [
       "<matplotlib.axes._subplots.AxesSubplot at 0x163d603ab80>"
      ]
     },
     "execution_count": 34,
     "metadata": {},
     "output_type": "execute_result"
    },
    {
     "data": {
      "image/png": "[encoded data removed]",
      "text/plain": [
       "<Figure size 432x288 with 1 Axes>"
      ]
     },
     "metadata": {
      "needs_background": "light"
     },
     "output_type": "display_data"
    }
   ],
   "source": [
    "sub3['park_dummy'].hist()"
   ]
  },
  {
   "cell_type": "markdown",
   "metadata": {
    "id": "-a9fQ5ustGSm"
   },
   "source": [
    "# Feature Engineering: Laundry Options"
   ]
  },
  {
   "cell_type": "code",
   "execution_count": 35,
   "metadata": {
    "colab": {
     "base_uri": "https://localhost:8080/"
    },
    "id": "xtcbEzoss_Ar",
    "outputId": "6e4c7223-c535-4d52-d37f-4edd0af56a01"
   },
   "outputs": [
    {
     "data": {
      "text/plain": [
       "w/d hookups           29825\n",
       "w/d in unit           25384\n",
       "laundry on site       13332\n",
       "laundry in bldg        2369\n",
       "no laundry on site      434\n",
       "Name: laundry_options, dtype: int64"
      ]
     },
     "execution_count": 35,
     "metadata": {},
     "output_type": "execute_result"
    }
   ],
   "source": [
    "sub3['laundry_options'].value_counts()"
   ]
  },
  {
   "cell_type": "code",
   "execution_count": 36,
   "metadata": {
    "colab": {
     "base_uri": "https://localhost:8080/"
    },
    "id": "q8hgcOlttFlG",
    "outputId": "b349e201-c36e-4940-ed67-6bfe3e62ffad"
   },
   "outputs": [
    {
     "data": {
      "text/plain": [
       "laundry_options\n",
       "w/d in unit           1169.114718\n",
       "w/d hookups            983.936798\n",
       "laundry in bldg        865.847193\n",
       "laundry on site        832.012076\n",
       "no laundry on site     711.147465\n",
       "Name: price, dtype: float64"
      ]
     },
     "execution_count": 36,
     "metadata": {},
     "output_type": "execute_result"
    }
   ],
   "source": [
    "sub3.groupby('laundry_options').mean()['price'].sort_values(ascending=False)"
   ]
  },
  {
   "cell_type": "code",
   "execution_count": 37,
   "metadata": {
    "colab": {
     "base_uri": "https://localhost:8080/",
     "height": 319
    },
    "id": "lHj0byrQtW1p",
    "outputId": "a8b676f9-be7d-49d5-db3f-cdfced2a454e"
   },
   "outputs": [
    {
     "name": "stdout",
     "output_type": "stream",
     "text": [
      "The number of missing value is:  25467\n",
      "The average price of missing value is:  993.7743746809597\n"
     ]
    },
    {
     "data": {
      "text/plain": [
       "<matplotlib.axes._subplots.AxesSubplot at 0x163d456b2e0>"
      ]
     },
     "execution_count": 37,
     "metadata": {},
     "output_type": "execute_result"
    },
    {
     "data": {
      "image/png": "[encoded data removed]",
      "text/plain": [
       "<Figure size 432x288 with 1 Axes>"
      ]
     },
     "metadata": {
      "needs_background": "light"
     },
     "output_type": "display_data"
    }
   ],
   "source": [
    "## Check the price values of NaN Laundry Options\n",
    "print('The number of missing value is: ', sub3['laundry_options'].isnull().sum())\n",
    "print('The average price of missing value is: ',sub3[sub3['laundry_options'].isnull()]['price'].mean())\n",
    "sub3[sub3['laundry_options'].isnull()]['price'].hist()"
   ]
  },
  {
   "cell_type": "code",
   "execution_count": 38,
   "metadata": {
    "colab": {
     "base_uri": "https://localhost:8080/",
     "height": 907
    },
    "id": "_BdLYuLreTGB",
    "outputId": "9ce21247-347c-4da3-a639-d46cd6c24263"
   },
   "outputs": [
    {
     "data": {
      "text/plain": [
       "<Figure size 432x288 with 0 Axes>"
      ]
     },
     "metadata": {},
     "output_type": "display_data"
    },
    {
     "data": {
      "image/png": "[encoded data removed]",
      "text/plain": [
       "<Figure size 720x1080 with 6 Axes>"
      ]
     },
     "metadata": {
      "needs_background": "light"
     },
     "output_type": "display_data"
    }
   ],
   "source": [
    "plt.figure()\n",
    "sub3['price'].hist(by=sub3['laundry_options'],figsize=(10,15))\n",
    "plt.show()"
   ]
  },
  {
   "cell_type": "code",
   "execution_count": 39,
   "metadata": {
    "id": "Cwc8ABUTvGHz"
   },
   "outputs": [],
   "source": [
    "## It seems in_unit laundry implies a higher rent price\n",
    "in_unit = ['w/d in unit']\n",
    "in_building = ['laundry on site','w/d hookups','laundry in bldg']\n",
    "no_laundry = ['no laundry on site']\n",
    "\n",
    "laundry_dummy = []\n",
    "for laundry in sub3['laundry_options']:\n",
    "  if laundry in in_unit:\n",
    "    laundry_dummy.append('in_unit')\n",
    "  elif laundry in no_laundry:\n",
    "    laundry_dummy.append('no_laundry')\n",
    "  else:\n",
    "    laundry_dummy.append('in_building')\n",
    "sub3['laundry_dummy'] = laundry_dummy"
   ]
  },
  {
   "cell_type": "markdown",
   "metadata": {
    "id": "BA9El-_u2uHg"
   },
   "source": [
    "# Feature Engineering: State and Region"
   ]
  },
  {
   "cell_type": "code",
   "execution_count": 40,
   "metadata": {
    "colab": {
     "base_uri": "https://localhost:8080/"
    },
    "id": "VWIDh06y2ttm",
    "outputId": "64fa510e-532c-4e99-e432-4f12fc4265c2",
    "scrolled": true
   },
   "outputs": [
    {
     "data": {
      "text/plain": [
       "fl    29990\n",
       "ga    13433\n",
       "tn    11167\n",
       "sc     9438\n",
       "al     8050\n",
       "la     5458\n",
       "ky     5154\n",
       "ms     4779\n",
       "nc     4519\n",
       "il     2575\n",
       "in     2024\n",
       "mi       75\n",
       "oh       23\n",
       "mo       19\n",
       "mn       16\n",
       "tx       13\n",
       "pa       10\n",
       "ny       10\n",
       "nj       10\n",
       "va        9\n",
       "wv        7\n",
       "ar        6\n",
       "ca        5\n",
       "ia        5\n",
       "ct        4\n",
       "or        3\n",
       "ri        1\n",
       "md        1\n",
       "az        1\n",
       "me        1\n",
       "nm        1\n",
       "nh        1\n",
       "de        1\n",
       "ks        1\n",
       "ok        1\n",
       "Name: state, dtype: int64"
      ]
     },
     "execution_count": 40,
     "metadata": {},
     "output_type": "execute_result"
    }
   ],
   "source": [
    "sub3['state'].value_counts()"
   ]
  },
  {
   "cell_type": "code",
   "execution_count": 55,
   "metadata": {},
   "outputs": [
    {
     "data": {
      "text/plain": [
       "fl    29990\n",
       "ga    13433\n",
       "tn    11167\n",
       "sc     9438\n",
       "al     8050\n",
       "la     5458\n",
       "ky     5154\n",
       "ms     4779\n",
       "nc     4519\n",
       "il     2575\n",
       "in     2024\n",
       "Name: state, dtype: int64"
      ]
     },
     "execution_count": 55,
     "metadata": {},
     "output_type": "execute_result"
    }
   ],
   "source": [
    "states = ['fl','ga','tn','sc','al','la','ky','ms','nc','il','in']\n",
    "sub3 = sub3[sub3['state'].isin(states)]\n",
    "sub3['state'].value_counts()"
   ]
  },
  {
   "cell_type": "code",
   "execution_count": 56,
   "metadata": {
    "colab": {
     "base_uri": "https://localhost:8080/"
    },
    "id": "w9S6BXAs65rW",
    "outputId": "edb603b8-326f-41aa-d98b-d53e1500a315"
   },
   "outputs": [
    {
     "data": {
      "text/plain": [
       "state\n",
       "fl    1170.380493\n",
       "nc    1152.090285\n",
       "sc    1076.412376\n",
       "la     960.316783\n",
       "ga     931.676990\n",
       "tn     922.638757\n",
       "al     875.746211\n",
       "in     870.941206\n",
       "ky     853.827513\n",
       "ms     796.102113\n",
       "il     787.190680\n",
       "Name: price, dtype: float64"
      ]
     },
     "execution_count": 56,
     "metadata": {},
     "output_type": "execute_result"
    }
   ],
   "source": [
    "## It looks make sense to include 'state' as categorical variable\n",
    "sub3.groupby('state').mean()['price'].sort_values(ascending=False)"
   ]
  },
  {
   "cell_type": "code",
   "execution_count": 57,
   "metadata": {
    "colab": {
     "base_uri": "https://localhost:8080/",
     "height": 433
    },
    "id": "s5xLhIVR3Mvz",
    "outputId": "904922b9-7945-4327-a7b5-ba9f74b29a6b"
   },
   "outputs": [
    {
     "data": {
      "text/plain": [
       "<matplotlib.legend.Legend at 0x163d5aa8f40>"
      ]
     },
     "execution_count": 57,
     "metadata": {},
     "output_type": "execute_result"
    },
    {
     "data": {
      "image/png": "[encoded data removed]",
      "text/plain": [
       "<Figure size 1080x504 with 2 Axes>"
      ]
     },
     "metadata": {
      "needs_background": "light"
     },
     "output_type": "display_data"
    }
   ],
   "source": [
    "sub3.plot(kind='scatter', x='long', y='lat', alpha=0.5,\n",
    "         s=1, label='$/sqft',  \n",
    "         c=sub3['price']/sub3['sqfeet'],   #  set symbol color on house value \n",
    "         cmap=plt.get_cmap('jet'),      \n",
    "         colorbar=True,\n",
    "         figsize=(15,7))\n",
    "plt.legend()"
   ]
  },
  {
   "cell_type": "markdown",
   "metadata": {
    "id": "82rrDPpF20TB"
   },
   "source": [
    "# Check Correlations across Columns"
   ]
  },
  {
   "cell_type": "code",
   "execution_count": 62,
   "metadata": {
    "id": "68YSSaBtm2HL"
   },
   "outputs": [],
   "source": [
    "## Preprocess Boolean variables to one-hot\n",
    "bool_cols = ['smoking_allowed','wheelchair_access','electric_vehicle_charge','comes_furnished','comes_furnished']\n",
    "bool_vars = sub3[bool_cols]\n",
    "sub3[bool_cols] = sub3[bool_cols].astype(int)\n",
    "\n",
    "sub3_processed = sub3.copy()[['price','type','pets_allowed','smoking_allowed','wheelchair_access','electric_vehicle_charge','comes_furnished','laundry_dummy','park_dummy','sqfeet','sqfeet_log','beds','baths','lat','long','state']]"
   ]
  },
  {
   "cell_type": "code",
   "execution_count": 59,
   "metadata": {},
   "outputs": [
    {
     "data": {
      "text/plain": [
       "price                      1.000000\n",
       "sqfeet_log                 0.399741\n",
       "sqfeet                     0.395947\n",
       "long                       0.324088\n",
       "baths                      0.266881\n",
       "beds                       0.209745\n",
       "id                         0.124596\n",
       "electric_vehicle_charge    0.059666\n",
       "wheelchair_access          0.008690\n",
       "pets_allowed               0.000678\n",
       "dogs_allowed               0.000674\n",
       "cats_allowed              -0.001915\n",
       "comes_furnished           -0.024932\n",
       "smoking_allowed           -0.123888\n",
       "lat                       -0.310884\n",
       "k_mean                          NaN\n",
       "Name: price, dtype: float64"
      ]
     },
     "execution_count": 59,
     "metadata": {},
     "output_type": "execute_result"
    }
   ],
   "source": [
    "corr_matrix = sub3.corr()\n",
    "corr_matrix[\"price\"].sort_values(ascending=False)"
   ]
  },
  {
   "cell_type": "code",
   "execution_count": 63,
   "metadata": {
    "colab": {
     "base_uri": "https://localhost:8080/",
     "height": 829
    },
    "id": "zaLnbsXawpQR",
    "outputId": "13c20277-5a32-4d32-a427-8ddb5d8bf80b"
   },
   "outputs": [
    {
     "data": {
      "text/plain": [
       "<matplotlib.axes._subplots.AxesSubplot at 0x163d5f2f610>"
      ]
     },
     "execution_count": 63,
     "metadata": {},
     "output_type": "execute_result"
    },
    {
     "data": {
      "image/png": "[encoded data removed]",
      "text/plain": [
       "<Figure size 864x864 with 2 Axes>"
      ]
     },
     "metadata": {
      "needs_background": "light"
     },
     "output_type": "display_data"
    }
   ],
   "source": [
    "fig, ax = plt.subplots(figsize=(12,12))         \n",
    "sns.heatmap(sub3_processed.corr(),annot=True, ax=ax)"
   ]
  },
  {
   "cell_type": "markdown",
   "metadata": {
    "id": "eaudiULSeRSN"
   },
   "source": [
    "# Split and Preprocess the Dataset"
   ]
  },
  {
   "cell_type": "code",
   "execution_count": 64,
   "metadata": {
    "colab": {
     "base_uri": "https://localhost:8080/"
    },
    "id": "tS0tgvdfj_Wf",
    "outputId": "076da773-7bbb-4377-c72a-8897788fdccc"
   },
   "outputs": [
    {
     "data": {
      "text/plain": [
       "((96587, 15), (96587,))"
      ]
     },
     "execution_count": 64,
     "metadata": {},
     "output_type": "execute_result"
    }
   ],
   "source": [
    "# I did not include several columns such as 'id','url', 'region','image_url','description' for now.\n",
    "# y = sub3_processed['price']\n",
    "y = sub3_processed['price']\n",
    "X = sub3_processed.drop(columns=['price'])\n",
    "\n",
    "X.shape,y.shape"
   ]
  },
  {
   "cell_type": "code",
   "execution_count": 66,
   "metadata": {
    "colab": {
     "base_uri": "https://localhost:8080/"
    },
    "id": "O1D2jO66kCD2",
    "outputId": "cd436460-5634-474c-e5fb-35cd812c384e"
   },
   "outputs": [
    {
     "data": {
      "text/plain": [
       "((72440, 15), (72440,), (24147, 15), (24147,))"
      ]
     },
     "execution_count": 66,
     "metadata": {},
     "output_type": "execute_result"
    }
   ],
   "source": [
    "from sklearn.model_selection import train_test_split\n",
    "\n",
    "X_train_raw, X_test_raw, y_train, y_test = train_test_split(X, y, test_size=0.25, random_state=42)\n",
    "X_train_raw.shape, y_train.shape, X_test_raw.shape, y_test.shape"
   ]
  },
  {
   "cell_type": "code",
   "execution_count": 67,
   "metadata": {
    "id": "alYxitBltnrR"
   },
   "outputs": [],
   "source": [
    "cat_cols = ['type','laundry_dummy','state']\n",
    "con_cols = ['sqfeet','beds','baths']\n",
    "\n",
    "from sklearn.preprocessing import StandardScaler\n",
    "preprocessor_dummy = ColumnTransformer(transformers=[('cat', OneHotEncoder(categories='auto', drop='first'), cat_cols),\n",
    "                                                   ('cont', StandardScaler(), con_cols)])"
   ]
  },
  {
   "cell_type": "code",
   "execution_count": 68,
   "metadata": {
    "id": "8zegrgcwug9n"
   },
   "outputs": [],
   "source": [
    "X_train_dummy = preprocessor_dummy.fit_transform(X_train_raw)\n",
    "X_test_dummy = preprocessor_dummy.transform(X_test_raw)"
   ]
  },
  {
   "cell_type": "markdown",
   "metadata": {
    "id": "eAB2KgBAjfjI"
   },
   "source": [
    "# Building a model"
   ]
  },
  {
   "cell_type": "markdown",
   "metadata": {
    "id": "FrAVkdqnqcSQ"
   },
   "source": [
    "## Simple Linear Regression"
   ]
  },
  {
   "cell_type": "code",
   "execution_count": 69,
   "metadata": {
    "colab": {
     "base_uri": "https://localhost:8080/"
    },
    "id": "flmGJDkhjYOh",
    "outputId": "35c163be-8ec9-44ff-a632-247fe3cc0e8e"
   },
   "outputs": [
    {
     "name": "stdout",
     "output_type": "stream",
     "text": [
      "The R2 score is:  0.40412865416637933\n",
      "The RMSE is:  247.200784938475\n"
     ]
    }
   ],
   "source": [
    "from sklearn import linear_model\n",
    "from sklearn.metrics import r2_score\n",
    "lin_reg = linear_model.LinearRegression(n_jobs=1)\n",
    "model = lin_reg.fit(X_train_dummy, y_train)\n",
    "\n",
    "y_test_pred = lin_reg.predict(X_test_dummy)\n",
    "y_train_pred = lin_reg.predict(X_train_dummy)\n",
    "\n",
    "print('The R2 score is: ',model.score(X_test_dummy, y_test))\n",
    "\n",
    "from sklearn.metrics import mean_squared_error\n",
    "lin_mse = mean_squared_error(y_test, y_test_pred) \n",
    "lin_rmse = np.sqrt(lin_mse) \n",
    "print('The RMSE is: ', lin_rmse)"
   ]
  },
  {
   "cell_type": "markdown",
   "metadata": {
    "id": "sa10SsZYrgV4"
   },
   "source": [
    "### Ridge Regression"
   ]
  },
  {
   "cell_type": "code",
   "execution_count": 70,
   "metadata": {
    "colab": {
     "base_uri": "https://localhost:8080/"
    },
    "id": "M_qnEyGns2iX",
    "outputId": "322aad77-4832-45f9-aa50-d45a925d8e07"
   },
   "outputs": [
    {
     "name": "stdout",
     "output_type": "stream",
     "text": [
      "The best alpha is:  7.5737391758950094\n",
      "The R2 score is:  0.4041763096019507\n",
      "The RMSE is:  247.19089966985928\n"
     ]
    }
   ],
   "source": [
    "from sklearn.model_selection import cross_validate\n",
    "from sklearn.linear_model import RidgeCV\n",
    "from sklearn.pipeline import make_pipeline\n",
    "\n",
    "alphas = np.logspace(-3, 1.5, num = 30)\n",
    "\n",
    "model = RidgeCV(alphas = alphas,fit_intercept = True, normalize = False)\n",
    "model.fit(X_train_dummy, y_train)\n",
    "# model = ridge_reg.fit(X_train, y_train)\n",
    "y_test_pred = model.predict(X_test_dummy)\n",
    "y_train_pred = model.predict(X_train_dummy)\n",
    "\n",
    "print('The best alpha is: ', model.alpha_)\n",
    "print('The R2 score is: ',model.score(X_test_dummy, y_test))\n",
    "\n",
    "lin_mse = mean_squared_error(y_test, y_test_pred) \n",
    "lin_rmse = np.sqrt(lin_mse) \n",
    "print('The RMSE is: ',lin_rmse)"
   ]
  },
  {
   "cell_type": "markdown",
   "metadata": {
    "id": "bI_k0a5SwWM_"
   },
   "source": [
    "## Preprocessing: ColumnTransformation {'cat', OneHotEncoder, 'con', StandardScaler}"
   ]
  },
  {
   "cell_type": "code",
   "execution_count": 71,
   "metadata": {
    "id": "LnVBkMH5hPnN"
   },
   "outputs": [],
   "source": [
    "preprocessor_ohe = ColumnTransformer(transformers=[('cat', OneHotEncoder(categories='auto'), cat_cols),\n",
    "                                                   ('cont', StandardScaler(), con_cols)])"
   ]
  },
  {
   "cell_type": "code",
   "execution_count": 72,
   "metadata": {
    "id": "VsJ_9Wo8yIii"
   },
   "outputs": [],
   "source": [
    "X_train_ohe = preprocessor_ohe.fit_transform(X_train_raw)\n",
    "X_test_ohe = preprocessor_ohe.transform(X_test_raw)"
   ]
  },
  {
   "cell_type": "markdown",
   "metadata": {
    "id": "P5KNcVppH3sU"
   },
   "source": [
    "### K-Nearest-Neigbor Regression"
   ]
  },
  {
   "cell_type": "code",
   "execution_count": 73,
   "metadata": {
    "colab": {
     "base_uri": "https://localhost:8080/"
    },
    "id": "-aTSG4fxwKF1",
    "outputId": "c4248c67-2fb7-4e71-b623-88cf1ccb9b80"
   },
   "outputs": [
    {
     "name": "stdout",
     "output_type": "stream",
     "text": [
      "The RMSE is:  188.6186430963331\n",
      "The R2 score is:  0.6530858268390416\n"
     ]
    }
   ],
   "source": [
    "from sklearn import neighbors\n",
    "\n",
    "knn_reg = neighbors.KNeighborsRegressor(n_neighbors=20,\n",
    "                                        weights='uniform',  # ‘distance’ weights points by inverse of their distance\n",
    "                                        algorithm='auto',  # out of ‘ball_tree’, ‘kd_tree’, ‘brute’\n",
    "                                        leaf_size=30)  # for tree algorithms\n",
    "\n",
    "model = knn_reg.fit(X_train_ohe, y_train)\n",
    "y_test_pred = model.predict(X_test_ohe)\n",
    "y_train_pred = model.predict(X_train_ohe)\n",
    "\n",
    "knn_mse = mean_squared_error(y_test, y_test_pred) \n",
    "knn_rmse = np.sqrt(knn_mse) \n",
    "print('The RMSE is: ',knn_rmse)\n",
    "\n",
    "print('The R2 score is: ',model.score(X_test_ohe, y_test))"
   ]
  },
  {
   "cell_type": "markdown",
   "metadata": {
    "id": "sapBRNJUAJNE"
   },
   "source": [
    "## Decision Tree Regression"
   ]
  },
  {
   "cell_type": "code",
   "execution_count": 74,
   "metadata": {
    "colab": {
     "base_uri": "https://localhost:8080/"
    },
    "id": "VM6v03sxAIcW",
    "outputId": "2b53fd9d-61ad-4929-96fd-d411685d2e31"
   },
   "outputs": [
    {
     "name": "stdout",
     "output_type": "stream",
     "text": [
      "The RMSE is:  179.13508502919194\n",
      "The R2 score is:  0.6870938355009414\n"
     ]
    }
   ],
   "source": [
    "from sklearn.tree import DecisionTreeRegressor\n",
    "\n",
    "tree_reg = DecisionTreeRegressor(random_state=42)\n",
    "model = tree_reg.fit(X_train_ohe, y_train)\n",
    "\n",
    "y_test_pred = model.predict(X_test_ohe)\n",
    "y_train_pred = model.predict(X_train_ohe)\n",
    "\n",
    "tree_mse = mean_squared_error(y_test, y_test_pred) \n",
    "tree_rmse = np.sqrt(tree_mse) \n",
    "print('The RMSE is: ',tree_rmse)\n",
    "print('The R2 score is: ', model.score(X_test_ohe, y_test))"
   ]
  },
  {
   "cell_type": "markdown",
   "metadata": {
    "id": "blejTChXsxbR"
   },
   "source": [
    "## Random Forest Regression"
   ]
  },
  {
   "cell_type": "code",
   "execution_count": 75,
   "metadata": {
    "colab": {
     "base_uri": "https://localhost:8080/"
    },
    "id": "exZ-ROMrswqI",
    "outputId": "8c00ac52-45d1-419f-ad7e-dd7fcb4c4d18"
   },
   "outputs": [
    {
     "name": "stdout",
     "output_type": "stream",
     "text": [
      "The RMSE is:  162.94819215384754\n",
      "The R2 score is:  0.7410881643761111\n"
     ]
    }
   ],
   "source": [
    "from sklearn import ensemble\n",
    "\n",
    "rf_reg = ensemble.RandomForestRegressor(n_estimators=10,  # number of trees\n",
    "                                        criterion='mse',  # how to measure fit\n",
    "                                        max_depth=None,  # how deep tree nodes can go\n",
    "                                        min_samples_split=2,  # samples needed to split node\n",
    "                                        min_samples_leaf=1,  # samples needed for a leaf\n",
    "                                        min_weight_fraction_leaf=0.0,  # weight of samples needed for a node\n",
    "                                        max_features='auto',  # max feats\n",
    "                                        max_leaf_nodes=None,  # max nodes\n",
    "                                        n_jobs=1, # how many to run parallel\n",
    "                                        random_state=42)\n",
    "\n",
    "model = rf_reg.fit(X_train_ohe, y_train.ravel())\n",
    "y_test_pred = model.predict(X_test_ohe)\n",
    "y_train_pred = model.predict(X_train_ohe)\n",
    "\n",
    "rf_mse = mean_squared_error(y_test, y_test_pred) \n",
    "rf_rmse = np.sqrt(rf_mse) \n",
    "print('The RMSE is: ',rf_rmse)\n",
    "\n",
    "# Accuracy score\n",
    "print('The R2 score is: ', model.score(X_test_ohe, y_test))"
   ]
  },
  {
   "cell_type": "code",
   "execution_count": 79,
   "metadata": {},
   "outputs": [
    {
     "name": "stdout",
     "output_type": "stream",
     "text": [
      "The RMSE is:  160.1932490464534\n",
      "The R2 score is:  0.74976893144553\n"
     ]
    }
   ],
   "source": [
    "from sklearn import ensemble\n",
    "\n",
    "rf_reg = ensemble.RandomForestRegressor(n_estimators=100,  # number of trees\n",
    "                                        criterion='mse',  # how to measure fit\n",
    "                                        max_depth=None,  # how deep tree nodes can go\n",
    "                                        min_samples_split=2,  # samples needed to split node\n",
    "                                        min_samples_leaf=1,  # samples needed for a leaf\n",
    "                                        min_weight_fraction_leaf=0.0,  # weight of samples needed for a node\n",
    "                                        max_features= 6,  # max feats\n",
    "                                        max_leaf_nodes=None,  # max nodes\n",
    "                                        n_jobs=1, # how many to run parallel\n",
    "                                        random_state=42)\n",
    "\n",
    "model = rf_reg.fit(X_train_ohe, y_train.ravel())\n",
    "y_test_pred = model.predict(X_test_ohe)\n",
    "y_train_pred = model.predict(X_train_ohe)\n",
    "\n",
    "rf_mse = mean_squared_error(y_test, y_test_pred) \n",
    "rf_rmse = np.sqrt(rf_mse) \n",
    "print('The RMSE is: ',rf_rmse)\n",
    "\n",
    "# Accuracy score\n",
    "print('The R2 score is: ', model.score(X_test_ohe, y_test))"
   ]
  },
  {
   "cell_type": "markdown",
   "metadata": {
    "id": "yQoXClew-yCu"
   },
   "source": [
    "## Fine tune the hyperparameters on Random Forest"
   ]
  },
  {
   "cell_type": "code",
   "execution_count": 80,
   "metadata": {
    "colab": {
     "base_uri": "https://localhost:8080/"
    },
    "id": "uHt5nf5ryi3X",
    "outputId": "20455440-8539-4093-bd1b-d44a14111ffa"
   },
   "outputs": [
    {
     "data": {
      "text/plain": [
       "{'max_features': 16, 'n_estimators': 50}"
      ]
     },
     "execution_count": 80,
     "metadata": {},
     "output_type": "execute_result"
    }
   ],
   "source": [
    "# Credit: https://medium.com/@manilwagle/predicting-house-prices-using-machine-learning-cab0b82cd3f\n",
    "from sklearn.model_selection import GridSearchCV\n",
    "param_grid = [\n",
    "    # try 12 (3×4) combinations of hyperparameters\n",
    "    {'n_estimators': [10,20,30,50], 'max_features': [2,4,6,8,16]},\n",
    "    # then try 6 (2×3) combinations with bootstrap set as False\n",
    "    {'bootstrap': [False], 'n_estimators': [3, 10], 'max_features': [2, 3, 4]},\n",
    "  ]\n",
    "rf_reg = ensemble.RandomForestRegressor(random_state=42)\n",
    "\n",
    "# train across 5 folds, that's a total of (12+6)*5=90 rounds of training \n",
    "grid_search = GridSearchCV(rf_reg, param_grid, cv=5,\n",
    "                           scoring='neg_mean_squared_error',\n",
    "                           return_train_score=True)\n",
    "\n",
    "grid_search.fit(X_train_ohe, y_train.ravel())\n",
    "grid_search.best_params_"
   ]
  },
  {
   "cell_type": "code",
   "execution_count": 81,
   "metadata": {
    "colab": {
     "base_uri": "https://localhost:8080/"
    },
    "id": "PVncyDcv_gYn",
    "outputId": "177cf066-afdd-4c27-bacb-52fc31c7072f"
   },
   "outputs": [
    {
     "name": "stdout",
     "output_type": "stream",
     "text": [
      "The RMSE is:  159.79017473413074\n",
      "The R2 score is:  0.7510265977154245\n"
     ]
    }
   ],
   "source": [
    "final_model = grid_search.best_estimator_\n",
    "\n",
    "y_test_pred = final_model.predict(X_test_ohe)\n",
    "y_train_pred = final_model.predict(X_train_ohe)\n",
    "\n",
    "rf_mse = mean_squared_error(y_test, y_test_pred) \n",
    "rf_rmse = np.sqrt(rf_mse) \n",
    "print('The RMSE is: ',rf_rmse)\n",
    "\n",
    "# Accuracy score\n",
    "print('The R2 score is: ', final_model.score(X_test_ohe, y_test))"
   ]
  },
  {
   "cell_type": "code",
   "execution_count": null,
   "metadata": {
    "id": "vWkTizb9o7aF"
   },
   "outputs": [],
   "source": [
    "final_model = grid_search.best_estimator_\n",
    "\n",
    "y_test_pred = final_model.predict(X_test_ohe)\n",
    "y_train_pred = final_model.predict(X_train_ohe)\n",
    "\n",
    "rf_mse = mean_squared_error(y_test, y_test_pred) \n",
    "rf_rmse = np.sqrt(rf_mse) \n",
    "print('The RMSE is: ',rf_rmse)\n",
    "\n",
    "# Accuracy score\n",
    "print('The R2 score is: ', final_model.score(X_test_ohe, y_test))"
   ]
  },
  {
   "cell_type": "markdown",
   "metadata": {},
   "source": [
    "## Saving model and find the centroid"
   ]
  },
  {
   "cell_type": "code",
   "execution_count": null,
   "metadata": {},
   "outputs": [],
   "source": [
    "import joblib\n",
    "model = ...\n",
    "joblib.dump(model, 'km-model.joblib')"
   ]
  },
  {
   "cell_type": "code",
   "execution_count": null,
   "metadata": {},
   "outputs": [],
   "source": [
    "def centroid(train):\n",
    "    return np.array([train['lat'].sum(), train['long'].sum()]) / len(train)"
   ]
  },
  {
   "cell_type": "code",
   "execution_count": null,
   "metadata": {},
   "outputs": [],
   "source": [
    "centroid_3 = centroid(sub3)"
   ]
  }
 ],
 "metadata": {
  "colab": {
   "collapsed_sections": [],
   "name": "WestCoast_KM_modeling.ipynb",
   "provenance": []
  },
  "kernelspec": {
   "display_name": "Python 3",
   "language": "python",
   "name": "python3"
  },
  "language_info": {
   "codemirror_mode": {
    "name": "ipython",
    "version": 3
   },
   "file_extension": ".py",
   "mimetype": "text/x-python",
   "name": "python",
   "nbconvert_exporter": "python",
   "pygments_lexer": "ipython3",
   "version": "3.8.3"
  }
 },
 "nbformat": 4,
 "nbformat_minor": 1
}
